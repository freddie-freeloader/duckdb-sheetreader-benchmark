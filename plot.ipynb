{
 "cells": [
  {
   "cell_type": "code",
   "execution_count": 1,
   "metadata": {},
   "outputs": [],
   "source": [
    "\n",
    "import duckdb\n",
    "import string\n",
    "import random\n",
    "import timeit\n",
    "import timeit\n",
    "import seaborn as sns\n",
    "import pandas as pd"
   ]
  },
  {
   "cell_type": "code",
   "execution_count": 2,
   "metadata": {},
   "outputs": [],
   "source": [
    "\n",
    "def random_yes_no():\n",
    "    return random.choice([\"yes\", \"no\"])\n",
    "\n",
    "\n",
    "def generate_random_string(length):\n",
    "    letters = string.ascii_lowercase\n",
    "    random_string = ''.join(random.choice(letters) for i in range(length))\n",
    "    return random_string\n",
    "\n",
    "\n",
    "def random_int(min, max):\n",
    "    return random.randint(min, max)\n",
    "\n",
    "\n",
    "def create_data_frame(rows, cols):\n",
    "    data = [[generate_random_string(3) for _ in range(cols)] for _ in range(rows)]\n",
    "    df = pd.DataFrame(data)\n",
    "    return df\n",
    "\n",
    "\n",
    "def create_file(dataframe):\n",
    "    con = duckdb.connect(database=':memory:')\n",
    "    con.execute(\"INSTALL spatial;\")\n",
    "    con.execute(\"LOAD spatial;\")\n",
    "    con.register('df', dataframe)\n",
    "    con.execute('CREATE TABLE tbl AS SELECT * FROM df')\n",
    "    con.execute(\"COPY (SELECT * FROM tbl) TO 'file.xlsx' WITH (FORMAT GDAL, DRIVER 'xlsx');\")\n",
    "    con.close()\n",
    "    print(\"Written File!\")\n",
    "\n",
    "\n",
    "def test_file(filename):\n",
    "    duckdb.sql(\"INSTALL spatial;\")\n",
    "    duckdb.sql(\"LOAD spatial;\")\n",
    "\n",
    "    def exec():\n",
    "        sql_command = f\"SELECT * FROM st_read('{filename}');\"\n",
    "        duckdb.sql(sql_command)\n",
    "\n",
    "    execution_time = timeit.timeit(exec, number=1)\n",
    "    return execution_time\n",
    "\n",
    "\n",
    "def test_file_sheetreader(filename,threads=4):\n",
    "    d = duckdb.connect(config={\"allow_unsigned_extensions\": \"true\"})\n",
    "    d.install_extension(\"./sheetreader.duckdb_extension\",\n",
    "                        force_install=True)\n",
    "    d.load_extension(\"sheetreader\")\n",
    "\n",
    "    def exec():\n",
    "        d.sql(f\"from sheetreader('{filename}', threads={threads})\")\n",
    "\n",
    "    execution_time = timeit.timeit(exec, number=1)\n",
    "    d.close()\n",
    "    return execution_time\n",
    "\n"
   ]
  },
  {
   "cell_type": "code",
   "execution_count": 3,
   "metadata": {},
   "outputs": [],
   "source": [
    "results = pd.DataFrame(columns=['rows', 'time', 'extension'])"
   ]
  },
  {
   "cell_type": "code",
   "execution_count": 4,
   "metadata": {},
   "outputs": [
    {
     "name": "stdout",
     "output_type": "stream",
     "text": [
      "Written File!\n",
      "Testing file with 100000 rows\n"
     ]
    },
    {
     "data": {
      "application/vnd.jupyter.widget-view+json": {
       "model_id": "3ceb165df4134ac6b7ab4b9be82ec636",
       "version_major": 2,
       "version_minor": 0
      },
      "text/plain": [
       "FloatProgress(value=0.0, layout=Layout(width='auto'), style=ProgressStyle(bar_color='black'))"
      ]
     },
     "metadata": {},
     "output_type": "display_data"
    },
    {
     "name": "stdout",
     "output_type": "stream",
     "text": [
      "Written File!\n",
      "Testing file with 200000 rows\n"
     ]
    },
    {
     "data": {
      "application/vnd.jupyter.widget-view+json": {
       "model_id": "4e1a75640b8c4a999ab507ec53f1905f",
       "version_major": 2,
       "version_minor": 0
      },
      "text/plain": [
       "FloatProgress(value=0.0, layout=Layout(width='auto'), style=ProgressStyle(bar_color='black'))"
      ]
     },
     "metadata": {},
     "output_type": "display_data"
    },
    {
     "name": "stdout",
     "output_type": "stream",
     "text": [
      "Written File!\n",
      "Testing file with 300000 rows\n"
     ]
    },
    {
     "data": {
      "application/vnd.jupyter.widget-view+json": {
       "model_id": "aea1661ae78948299d64e356fcf5e8ef",
       "version_major": 2,
       "version_minor": 0
      },
      "text/plain": [
       "FloatProgress(value=0.0, layout=Layout(width='auto'), style=ProgressStyle(bar_color='black'))"
      ]
     },
     "metadata": {},
     "output_type": "display_data"
    },
    {
     "name": "stdout",
     "output_type": "stream",
     "text": [
      "Written File!\n",
      "Testing file with 400000 rows\n"
     ]
    },
    {
     "data": {
      "application/vnd.jupyter.widget-view+json": {
       "model_id": "0474eb1cd92246da91786c13d14cdaf1",
       "version_major": 2,
       "version_minor": 0
      },
      "text/plain": [
       "FloatProgress(value=0.0, layout=Layout(width='auto'), style=ProgressStyle(bar_color='black'))"
      ]
     },
     "metadata": {},
     "output_type": "display_data"
    },
    {
     "name": "stdout",
     "output_type": "stream",
     "text": [
      "Written File!\n",
      "Testing file with 500000 rows\n"
     ]
    },
    {
     "data": {
      "application/vnd.jupyter.widget-view+json": {
       "model_id": "b957bbc7d03d4fb2b419ad6648d66473",
       "version_major": 2,
       "version_minor": 0
      },
      "text/plain": [
       "FloatProgress(value=0.0, layout=Layout(width='auto'), style=ProgressStyle(bar_color='black'))"
      ]
     },
     "metadata": {},
     "output_type": "display_data"
    },
    {
     "name": "stdout",
     "output_type": "stream",
     "text": [
      "Written File!\n",
      "Testing file with 600000 rows\n"
     ]
    },
    {
     "data": {
      "application/vnd.jupyter.widget-view+json": {
       "model_id": "d5c8f8ada1f54c8ab6165118e091c002",
       "version_major": 2,
       "version_minor": 0
      },
      "text/plain": [
       "FloatProgress(value=0.0, layout=Layout(width='auto'), style=ProgressStyle(bar_color='black'))"
      ]
     },
     "metadata": {},
     "output_type": "display_data"
    },
    {
     "name": "stdout",
     "output_type": "stream",
     "text": [
      "Written File!\n",
      "Testing file with 700000 rows\n"
     ]
    },
    {
     "data": {
      "application/vnd.jupyter.widget-view+json": {
       "model_id": "e6502bfacfb8476f91d9bbfc5f02d69b",
       "version_major": 2,
       "version_minor": 0
      },
      "text/plain": [
       "FloatProgress(value=0.0, layout=Layout(width='auto'), style=ProgressStyle(bar_color='black'))"
      ]
     },
     "metadata": {},
     "output_type": "display_data"
    },
    {
     "name": "stdout",
     "output_type": "stream",
     "text": [
      "Written File!\n",
      "Testing file with 800000 rows\n"
     ]
    },
    {
     "data": {
      "application/vnd.jupyter.widget-view+json": {
       "model_id": "7b16deeca2134997b8634cfa5f85eaf8",
       "version_major": 2,
       "version_minor": 0
      },
      "text/plain": [
       "FloatProgress(value=0.0, layout=Layout(width='auto'), style=ProgressStyle(bar_color='black'))"
      ]
     },
     "metadata": {},
     "output_type": "display_data"
    },
    {
     "name": "stdout",
     "output_type": "stream",
     "text": [
      "Written File!\n",
      "Testing file with 900000 rows\n"
     ]
    }
   ],
   "source": [
    "\n",
    "rows = 1000000\n",
    "i = 1\n",
    "cols = 4\n",
    "for i in range(1, 15):\n",
    "    rows = 100000 * i\n",
    "    df = create_data_frame(rows, cols)\n",
    "    create_file(df)\n",
    "    print(\"Testing file with \" + str(rows) + \" rows\")\n",
    "    results.loc[i*3] = [str(rows),  test_file_sheetreader(\"./file.xlsx\",1), \"sheetreader 1 thread\"]\n",
    "    results.loc[i*3+2] = [str(rows),  test_file_sheetreader(\"./file.xlsx\",4), \"sheetreader 4 threads\"]\n",
    "    results.loc[i*3+1] = [str(rows),  test_file(\"./file.xlsx\"), \"spatial\"]\n",
    "        "
   ]
  },
  {
   "cell_type": "code",
   "execution_count": 5,
   "metadata": {},
   "outputs": [
    {
     "data": {
      "text/plain": [
       "<seaborn.axisgrid.FacetGrid at 0x7fa4a1ff0200>"
      ]
     },
     "execution_count": 5,
     "metadata": {},
     "output_type": "execute_result"
    },
    {
     "data": {
      "image/png": "[encoded data removed]",
      "text/plain": [
       "<Figure size 704.5x500 with 1 Axes>"
      ]
     },
     "metadata": {},
     "output_type": "display_data"
    }
   ],
   "source": [
    "sns.relplot(data=results, x='rows', y='time', hue='extension')"
   ]
  }
 ],
 "metadata": {
  "kernelspec": {
   "display_name": "Python 3 (ipykernel)",
   "language": "python",
   "name": "python3"
  },
  "language_info": {
   "codemirror_mode": {
    "name": "ipython",
    "version": 3
   },
   "file_extension": ".py",
   "mimetype": "text/x-python",
   "name": "python",
   "nbconvert_exporter": "python",
   "pygments_lexer": "ipython3",
   "version": "3.12.3"
  }
 },
 "nbformat": 4,
 "nbformat_minor": 4
}
